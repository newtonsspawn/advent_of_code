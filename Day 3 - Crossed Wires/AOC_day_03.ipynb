{
 "cells": [
  {
   "cell_type": "markdown",
   "source": [
    "# Part One"
   ],
   "metadata": {
    "collapsed": false,
    "pycharm": {
     "name": "#%% md\n"
    }
   }
  },
  {
   "cell_type": "code",
   "execution_count": 1,
   "metadata": {
    "collapsed": true,
    "pycharm": {
     "is_executing": false
    }
   },
   "outputs": [],
   "source": [
    "import re\n",
    "\n",
    "def closest_intersection(wire_1, wire_2):\n",
    "    \n",
    "    def wire_path(legs):\n",
    "        path=[[0, 0]]\n",
    "        for leg in legs:\n",
    "            run = re.split('(\\d.*)', leg)\n",
    "            x, y = path[-1][0], path[-1][1]\n",
    "            if run[0] == 'U':\n",
    "                for i in range(1, int(run[1])+1):\n",
    "                    path.append([x, y+i])\n",
    "            elif run[0] == 'D':\n",
    "                for i in range(1, int(run[1])+1):\n",
    "                    path.append([x, y-i])\n",
    "            elif run[0] == 'R':\n",
    "                for i in range(1, int(run[1])+1):\n",
    "                    path.append([x+i, y])\n",
    "            elif run[0] == 'L':\n",
    "                for i in range(1, int(run[1])+1):\n",
    "                    path.append([x-i, y])\n",
    "        return path[1:]\n",
    "    \n",
    "    path_1 = wire_path(wire_1)\n",
    "    path_1 = set(tuple(i) for i in path_1)\n",
    "    \n",
    "    path_2 = wire_path(wire_2)\n",
    "    path_2 = set(tuple(i) for i in path_2)\n",
    "    \n",
    "    intersections = path_1.intersection(path_2)\n",
    "    print(intersections)\n",
    "    \n",
    "    distances = [abs(x) + abs(y) for (x, y) in intersections]\n",
    "    distance = min(distances)\n",
    "    \n",
    "    return distance\n",
    "                "
   ]
  },
  {
   "cell_type": "code",
   "execution_count": 2,
   "outputs": [
    {
     "name": "stdout",
     "text": [
      "{(3, 3), (6, 5)}\n"
     ],
     "output_type": "stream"
    },
    {
     "data": {
      "text/plain": "6"
     },
     "metadata": {},
     "output_type": "execute_result",
     "execution_count": 2
    }
   ],
   "source": [
    "closest_intersection(['R8','U5','L5','D3'],\n",
    "                     ['U7','R6','D4','L4'])"
   ],
   "metadata": {
    "collapsed": false,
    "pycharm": {
     "name": "#%%\n",
     "is_executing": false
    }
   }
  },
  {
   "cell_type": "code",
   "execution_count": 3,
   "outputs": [
    {
     "name": "stdout",
     "text": [
      "{(158, -12), (146, 46), (155, 4), (155, 11)}\n"
     ],
     "output_type": "stream"
    },
    {
     "data": {
      "text/plain": "159"
     },
     "metadata": {},
     "output_type": "execute_result",
     "execution_count": 3
    }
   ],
   "source": [
    "closest_intersection(['R75','D30','R83','U83','L12','D49','R71','U7','L72'],\n",
    "                     ['U62','R66','U55','R34','D71','R55','D58','R83'])"
   ],
   "metadata": {
    "collapsed": false,
    "pycharm": {
     "name": "#%%\n",
     "is_executing": false
    }
   }
  },
  {
   "cell_type": "code",
   "execution_count": 4,
   "outputs": [
    {
     "name": "stdout",
     "text": [
      "{(107, 71), (157, 18), (124, 11), (107, 47), (107, 51)}\n"
     ],
     "output_type": "stream"
    },
    {
     "data": {
      "text/plain": "135"
     },
     "metadata": {},
     "output_type": "execute_result",
     "execution_count": 4
    }
   ],
   "source": [
    "closest_intersection(['R98','U47','R26','D63','R33','U87','L62','D20','R33',\n",
    "                      'U53','R51'],\n",
    "                     ['U98','R91','D20','R16','D67','R40','U7','R15','U6','R7'])"
   ],
   "metadata": {
    "collapsed": false,
    "pycharm": {
     "name": "#%%\n",
     "is_executing": false
    }
   }
  },
  {
   "cell_type": "code",
   "execution_count": 5,
   "outputs": [],
   "source": [
    "with open('./input.txt', 'r') as f:\n",
    "    inputs = f.readlines()\n",
    "\n",
    "wire_1 = re.split(',', inputs[0].strip())\n",
    "wire_2 = re.split(',', inputs[1].strip())"
   ],
   "metadata": {
    "collapsed": false,
    "pycharm": {
     "name": "#%%\n",
     "is_executing": false
    }
   }
  },
  {
   "cell_type": "code",
   "execution_count": 6,
   "outputs": [
    {
     "name": "stdout",
     "text": [
      "{(-2501, 1786), (-1753, 282), (-3076, -53), (-3882, 1595), (-2501, 2031), (-1320, 536), (-899, 1506), (-1753, 112), (-3110, -53), (-490, 1286), (-1470, 536), (-3857, -198), (-490, 1269), (-2674, -53), (-2170, 2131), (-274, 1105), (-1648, 112), (-751, 1286), (-557, 1201), (-1648, 413), (-309, 1411), (-1728, -115), (-274, 1286), (-766, 1526), (-714, 2290), (-274, 1269), (-771, 675), (-766, 1509), (-517, 777), (-714, 2037), (-771, 987), (-2334, 2131), (-905, 1258), (-517, 1269), (-2674, -237), (-1944, 1899), (-999, 557), (-3429, -97), (-2028, 2031), (-880, 2290), (-2345, 2131), (-3429, -198), (-905, 1267), (-648, 2290), (-905, 1201), (-610, 675), (-886, 557), (-3857, -97), (-517, 1286), (-1444, 1051), (-2744, 1680), (-2501, 1686)}\n"
     ],
     "output_type": "stream"
    },
    {
     "data": {
      "text/plain": "1285"
     },
     "metadata": {},
     "output_type": "execute_result",
     "execution_count": 6
    }
   ],
   "source": [
    "closest_intersection(wire_1, wire_2)"
   ],
   "metadata": {
    "collapsed": false,
    "pycharm": {
     "name": "#%%\n",
     "is_executing": false
    }
   }
  },
  {
   "cell_type": "markdown",
   "source": [
    "# Part Two"
   ],
   "metadata": {
    "collapsed": false,
    "pycharm": {
     "name": "#%% md\n",
     "is_executing": false
    }
   }
  },
  {
   "cell_type": "code",
   "execution_count": 17,
   "outputs": [],
   "source": [
    "def fewest_steps(wire_1, wire_2):\n",
    "    \n",
    "    def wire_path(legs):\n",
    "        path=[[0, 0]]\n",
    "        for leg in legs:\n",
    "            run = re.split('(\\d.*)', leg)\n",
    "            x, y = path[-1][0], path[-1][1]\n",
    "            if run[0] == 'U':\n",
    "                for i in range(1, int(run[1])+1):\n",
    "                    path.append([x, y+i])\n",
    "            elif run[0] == 'D':\n",
    "                for i in range(1, int(run[1])+1):\n",
    "                    path.append([x, y-i])\n",
    "            elif run[0] == 'R':\n",
    "                for i in range(1, int(run[1])+1):\n",
    "                    path.append([x+i, y])\n",
    "            elif run[0] == 'L':\n",
    "                for i in range(1, int(run[1])+1):\n",
    "                    path.append([x-i, y])\n",
    "        return path[1:]\n",
    "    \n",
    "    path_1 = wire_path(wire_1)\n",
    "    path_1_set = set(tuple(i) for i in path_1)\n",
    "    \n",
    "    path_2 = wire_path(wire_2)\n",
    "    path_2_set = set(tuple(i) for i in path_2)\n",
    "    \n",
    "    intersections = path_1_set.intersection(path_2_set)\n",
    "    intersections = [list(i) for i in intersections]\n",
    "    print(intersections)\n",
    "    \n",
    "    steps_1 = [path_1.index(i)+1 for i in intersections]\n",
    "    steps_2 = [path_2.index(i)+1 for i in intersections]\n",
    "    \n",
    "    fewest = min([x + y for (x, y) in zip(steps_1, steps_2)])\n",
    "    \n",
    "    return fewest"
   ],
   "metadata": {
    "collapsed": false,
    "pycharm": {
     "name": "#%%\n",
     "is_executing": false
    }
   }
  },
  {
   "cell_type": "code",
   "execution_count": 18,
   "outputs": [
    {
     "name": "stdout",
     "text": [
      "[[3, 3], [6, 5]]\n"
     ],
     "output_type": "stream"
    },
    {
     "data": {
      "text/plain": "30"
     },
     "metadata": {},
     "output_type": "execute_result",
     "execution_count": 18
    }
   ],
   "source": [
    "fewest_steps(['R8','U5','L5','D3'], ['U7','R6','D4','L4'])"
   ],
   "metadata": {
    "collapsed": false,
    "pycharm": {
     "name": "#%%\n",
     "is_executing": false
    }
   }
  },
  {
   "cell_type": "code",
   "execution_count": 19,
   "outputs": [
    {
     "name": "stdout",
     "text": [
      "[[158, -12], [146, 46], [155, 4], [155, 11]]\n"
     ],
     "output_type": "stream"
    },
    {
     "data": {
      "text/plain": "610"
     },
     "metadata": {},
     "output_type": "execute_result",
     "execution_count": 19
    }
   ],
   "source": [
    "fewest_steps(['R75','D30','R83','U83','L12','D49','R71','U7','L72'],\n",
    "             ['U62','R66','U55','R34','D71','R55','D58','R83'])"
   ],
   "metadata": {
    "collapsed": false,
    "pycharm": {
     "name": "#%%\n",
     "is_executing": false
    }
   }
  },
  {
   "cell_type": "code",
   "execution_count": 20,
   "outputs": [
    {
     "name": "stdout",
     "text": [
      "[[107, 71], [157, 18], [124, 11], [107, 47], [107, 51]]\n"
     ],
     "output_type": "stream"
    },
    {
     "data": {
      "text/plain": "410"
     },
     "metadata": {},
     "output_type": "execute_result",
     "execution_count": 20
    }
   ],
   "source": [
    "fewest_steps(['R98','U47','R26','D63','R33','U87','L62','D20','R33','U53',\n",
    "              'R51'],\n",
    "             ['U98','R91','D20','R16','D67','R40','U7','R15','U6','R7'])"
   ],
   "metadata": {
    "collapsed": false,
    "pycharm": {
     "name": "#%%\n",
     "is_executing": false
    }
   }
  },
  {
   "cell_type": "code",
   "execution_count": 21,
   "outputs": [
    {
     "name": "stdout",
     "text": [
      "[[-2501, 1786], [-1753, 282], [-3076, -53], [-3882, 1595], [-2501, 2031], [-1320, 536], [-899, 1506], [-1753, 112], [-3110, -53], [-490, 1286], [-1470, 536], [-3857, -198], [-490, 1269], [-2674, -53], [-2170, 2131], [-274, 1105], [-1648, 112], [-751, 1286], [-557, 1201], [-1648, 413], [-309, 1411], [-1728, -115], [-274, 1286], [-766, 1526], [-714, 2290], [-274, 1269], [-771, 675], [-766, 1509], [-517, 777], [-714, 2037], [-771, 987], [-2334, 2131], [-905, 1258], [-517, 1269], [-2674, -237], [-1944, 1899], [-999, 557], [-3429, -97], [-2028, 2031], [-880, 2290], [-2345, 2131], [-3429, -198], [-905, 1267], [-648, 2290], [-905, 1201], [-610, 675], [-886, 557], [-3857, -97], [-517, 1286], [-1444, 1051], [-2744, 1680], [-2501, 1686]]\n"
     ],
     "output_type": "stream"
    },
    {
     "data": {
      "text/plain": "14228"
     },
     "metadata": {},
     "output_type": "execute_result",
     "execution_count": 21
    }
   ],
   "source": [
    "fewest_steps(wire_1, wire_2)"
   ],
   "metadata": {
    "collapsed": false,
    "pycharm": {
     "name": "#%%\n",
     "is_executing": false
    }
   }
  },
  {
   "cell_type": "code",
   "execution_count": null,
   "outputs": [],
   "source": [
    "\n"
   ],
   "metadata": {
    "collapsed": false,
    "pycharm": {
     "name": "#%%\n"
    }
   }
  }
 ],
 "metadata": {
  "kernelspec": {
   "display_name": "Python 3",
   "language": "python",
   "name": "python3"
  },
  "language_info": {
   "codemirror_mode": {
    "name": "ipython",
    "version": 2
   },
   "file_extension": ".py",
   "mimetype": "text/x-python",
   "name": "python",
   "nbconvert_exporter": "python",
   "pygments_lexer": "ipython2",
   "version": "2.7.6"
  },
  "pycharm": {
   "stem_cell": {
    "cell_type": "raw",
    "source": [],
    "metadata": {
     "collapsed": false
    }
   }
  }
 },
 "nbformat": 4,
 "nbformat_minor": 0
}
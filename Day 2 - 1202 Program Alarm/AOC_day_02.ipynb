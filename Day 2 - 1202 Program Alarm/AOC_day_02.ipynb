{
 "cells": [
  {
   "cell_type": "markdown",
   "source": [
    "# Part One"
   ],
   "metadata": {
    "collapsed": false,
    "pycharm": {
     "name": "#%% md\n"
    }
   }
  },
  {
   "cell_type": "code",
   "execution_count": 1,
   "metadata": {
    "collapsed": true,
    "pycharm": {
     "is_executing": false
    }
   },
   "outputs": [],
   "source": [
    "def intcode(init_state, restore=False):\n",
    "    \n",
    "    state = init_state.copy()\n",
    "    \n",
    "    if restore:\n",
    "        state[1] = 12\n",
    "        state[2] = 2\n",
    "    \n",
    "    for pos in range(0, len(state) + 1, 4):\n",
    "        if state[pos] == 1:\n",
    "            state[state[pos + 3]] = state[state[pos + 1]] + \\\n",
    "                                    state[state[pos + 2]]\n",
    "        elif state[pos] == 2:\n",
    "            state[state[pos + 3]] = state[state[pos + 1]] * \\\n",
    "                                    state[state[pos + 2]]\n",
    "        elif state[pos] == 99:\n",
    "            break\n",
    "        else:\n",
    "            print(f'Error: Value {state[pos]} as position {pos} must be `1`, `2`, or `99`.')\n",
    "    \n",
    "    print(state)\n",
    "    return state[0]"
   ]
  },
  {
   "cell_type": "code",
   "execution_count": 2,
   "outputs": [
    {
     "name": "stdout",
     "text": [
      "[2, 4, 4, 5, 99, 9801]\n"
     ],
     "output_type": "stream"
    },
    {
     "data": {
      "text/plain": "2"
     },
     "metadata": {},
     "output_type": "execute_result",
     "execution_count": 2
    }
   ],
   "source": [
    "input_state = [2, 4, 4, 5, 99, 0]\n",
    "intcode(input_state)"
   ],
   "metadata": {
    "collapsed": false,
    "pycharm": {
     "name": "#%%\n",
     "is_executing": false
    }
   }
  },
  {
   "cell_type": "code",
   "execution_count": 3,
   "outputs": [
    {
     "name": "stdout",
     "text": [
      "[2, 12, 2, 5, 99, 8, 4, 4, 5, 99, 0, 4, 4, 5, 99, 0, 4, 4, 5, 99]\n"
     ],
     "output_type": "stream"
    },
    {
     "data": {
      "text/plain": "2"
     },
     "metadata": {},
     "output_type": "execute_result",
     "execution_count": 3
    }
   ],
   "source": [
    "input_state = [2, 4, 4, 5, 99, 0, 4, 4, 5, 99, 0, 4, 4, 5, 99, 0, 4, 4, 5, 99]\n",
    "intcode(input_state, restore=True)"
   ],
   "metadata": {
    "collapsed": false,
    "pycharm": {
     "name": "#%%\n",
     "is_executing": false
    }
   }
  },
  {
   "cell_type": "code",
   "execution_count": 4,
   "outputs": [
    {
     "name": "stdout",
     "text": [
      "[1, 0, 0, 3, 1, 1, 2, 3, 1, 3, 4, 3, 1, 5, 0, 3, 2, 6, 1, 19, 1, 5, 19, 23, 1, 13, 23, 27, 1, 6, 27, 31, 2, 31, 13, 35, 1, 9, 35, 39, 2, 39, 13, 43, 1, 43, 10, 47, 1, 47, 13, 51, 2, 13, 51, 55, 1, 55, 9, 59, 1, 59, 5, 63, 1, 6, 63, 67, 1, 13, 67, 71, 2, 71, 10, 75, 1, 6, 75, 79, 1, 79, 10, 83, 1, 5, 83, 87, 2, 10, 87, 91, 1, 6, 91, 95, 1, 9, 95, 99, 1, 99, 9, 103, 2, 103, 10, 107, 1, 5, 107, 111, 1, 9, 111, 115, 2, 13, 115, 119, 1, 119, 10, 123, 1, 123, 10, 127, 2, 127, 10, 131, 1, 5, 131, 135, 1, 10, 135, 139, 1, 139, 2, 143, 1, 6, 143, 0, 99, 2, 14, 0, 0]\n"
     ],
     "output_type": "stream"
    }
   ],
   "source": [
    "import csv\n",
    "\n",
    "with open('input.csv', 'r') as f:\n",
    "    reader = csv.reader(f)\n",
    "    initial_state = list(reader)\n",
    "\n",
    "initial_state = [int(i) for i in initial_state[0]]\n",
    "print(initial_state)"
   ],
   "metadata": {
    "collapsed": false,
    "pycharm": {
     "name": "#%%\n",
     "is_executing": false
    }
   }
  },
  {
   "cell_type": "code",
   "execution_count": 5,
   "outputs": [
    {
     "name": "stdout",
     "text": [
      "[5290681, 12, 2, 2, 1, 1, 2, 3, 1, 3, 4, 3, 1, 5, 0, 3, 2, 6, 1, 24, 1, 5, 19, 25, 1, 13, 23, 30, 1, 6, 27, 32, 2, 31, 13, 160, 1, 9, 35, 163, 2, 39, 13, 815, 1, 43, 10, 819, 1, 47, 13, 824, 2, 13, 51, 4120, 1, 55, 9, 4123, 1, 59, 5, 4124, 1, 6, 63, 4126, 1, 13, 67, 4131, 2, 71, 10, 16524, 1, 6, 75, 16526, 1, 79, 10, 16530, 1, 5, 83, 16531, 2, 10, 87, 66124, 1, 6, 91, 66126, 1, 9, 95, 66129, 1, 99, 9, 66132, 2, 103, 10, 264528, 1, 5, 107, 264529, 1, 9, 111, 264532, 2, 13, 115, 1322660, 1, 119, 10, 1322664, 1, 123, 10, 1322668, 2, 127, 10, 5290672, 1, 5, 131, 5290673, 1, 10, 135, 5290677, 1, 139, 2, 5290679, 1, 6, 143, 0, 99, 2, 14, 0, 0]\n"
     ],
     "output_type": "stream"
    },
    {
     "data": {
      "text/plain": "5290681"
     },
     "metadata": {},
     "output_type": "execute_result",
     "execution_count": 5
    }
   ],
   "source": [
    "intcode(initial_state, restore=True)"
   ],
   "metadata": {
    "collapsed": false,
    "pycharm": {
     "name": "#%%\n",
     "is_executing": false
    }
   }
  },
  {
   "cell_type": "markdown",
   "source": [
    "# Part Two"
   ],
   "metadata": {
    "collapsed": false,
    "pycharm": {
     "name": "#%% md\n",
     "is_executing": false
    }
   }
  },
  {
   "cell_type": "code",
   "execution_count": 6,
   "outputs": [],
   "source": [
    "def intcode_adv(init_state, noun, verb, restore=False):\n",
    "    \n",
    "    state = init_state.copy()\n",
    "    \n",
    "    if restore:\n",
    "        state[1] = noun\n",
    "        state[2] = verb\n",
    "    \n",
    "    for pos in range(0, len(state) + 1, 4):\n",
    "        if state[pos] == 1:\n",
    "            state[state[pos + 3]] = state[state[pos + 1]] + \\\n",
    "                                    state[state[pos + 2]]\n",
    "        elif state[pos] == 2:\n",
    "            state[state[pos + 3]] = state[state[pos + 1]] * \\\n",
    "                                    state[state[pos + 2]]\n",
    "        elif state[pos] == 99:\n",
    "            break\n",
    "        else:\n",
    "            print(f'Error: Value {state[pos]} as position {pos} must be `1`, `2`, or `99`.')\n",
    "    \n",
    "    return state[0]"
   ],
   "metadata": {
    "collapsed": false,
    "pycharm": {
     "name": "#%%\n",
     "is_executing": false
    }
   }
  },
  {
   "cell_type": "code",
   "execution_count": 7,
   "outputs": [
    {
     "name": "stdout",
     "text": [
      "noun: 57\n",
      "verb: 41\n",
      "answer: 5741\n"
     ],
     "output_type": "stream"
    }
   ],
   "source": [
    "from itertools import product\n",
    "\n",
    "output = 19690720\n",
    "for noun, verb in product(range(100), range(100)):\n",
    "    if intcode_adv(initial_state, \n",
    "                   noun=noun, \n",
    "                   verb=verb, \n",
    "                   restore=True) == output:\n",
    "        print(f'noun: {noun}')\n",
    "        print(f'verb: {verb}')\n",
    "        print(f'answer: {(100 * noun) + verb}')\n",
    "        break"
   ],
   "metadata": {
    "collapsed": false,
    "pycharm": {
     "name": "#%%\n",
     "is_executing": false
    }
   }
  },
  {
   "cell_type": "code",
   "execution_count": 7,
   "outputs": [],
   "source": [
    "\n"
   ],
   "metadata": {
    "collapsed": false,
    "pycharm": {
     "name": "#%%\n",
     "is_executing": false
    }
   }
  }
 ],
 "metadata": {
  "kernelspec": {
   "display_name": "Python 3",
   "language": "python",
   "name": "python3"
  },
  "language_info": {
   "codemirror_mode": {
    "name": "ipython",
    "version": 2
   },
   "file_extension": ".py",
   "mimetype": "text/x-python",
   "name": "python",
   "nbconvert_exporter": "python",
   "pygments_lexer": "ipython2",
   "version": "2.7.6"
  },
  "pycharm": {
   "stem_cell": {
    "cell_type": "raw",
    "source": [],
    "metadata": {
     "collapsed": false
    }
   }
  }
 },
 "nbformat": 4,
 "nbformat_minor": 0
}
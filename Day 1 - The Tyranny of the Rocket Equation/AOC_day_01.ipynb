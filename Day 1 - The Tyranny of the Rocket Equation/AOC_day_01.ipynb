{
 "cells": [
  {
   "cell_type": "markdown",
   "source": [
    "# Part One"
   ],
   "metadata": {
    "collapsed": false,
    "pycharm": {
     "name": "#%% md\n"
    }
   }
  },
  {
   "cell_type": "code",
   "execution_count": 1,
   "metadata": {
    "collapsed": true,
    "pycharm": {
     "is_executing": false
    }
   },
   "outputs": [
    {
     "name": "stdout",
     "text": [
      "[50350, 104487, 101866, 143582, 58497, 69981, 98300, 119291, 148489, 83005, 107291, 124738, 142256, 108102, 121054, 119697, 75546, 109022, 136754, 52073, 115235, 87668, 64523, 71179, 69071, 142380, 68233, 115226, 132656, 137007, 82838, 79339, 131726, 52295, 102941, 98297, 144374, 118998, 63910, 146772, 82916, 72068, 82855, 55915, 91663, 82917, 105876, 119551, 70639, 114459, 129235, 56041, 70031, 145187, 54913, 56928, 52159, 144384, 80104, 83932, 81334, 72693, 50595, 128895, 54138, 79126, 69930, 72896, 108357, 67415, 110581, 131477, 65517, 87912, 125782, 51785, 145472, 54358, 87715, 98067, 99791, 92502, 50750, 76614, 110137, 56118, 149501, 76542, 87183, 128333, 127657, 144246, 141704, 96873, 62434, 136609, 121829, 111796, 103936, 69807]\n"
     ],
     "output_type": "stream"
    }
   ],
   "source": [
    "with open('./input.txt', 'r') as f:\n",
    "    inputs = f.readlines()\n",
    "\n",
    "inputs = [int(i) for i in inputs]\n",
    "print(inputs)"
   ]
  },
  {
   "cell_type": "code",
   "execution_count": 2,
   "outputs": [
    {
     "data": {
      "text/plain": "3212842"
     },
     "metadata": {},
     "output_type": "execute_result",
     "execution_count": 2
    }
   ],
   "source": [
    "def req_fuel(mass):\n",
    "    return (mass // 3) - 2\n",
    "\n",
    "initial_fuel = sum(req_fuel(m) for m in inputs)\n",
    "initial_fuel"
   ],
   "metadata": {
    "collapsed": false,
    "pycharm": {
     "name": "#%%\n",
     "is_executing": false
    }
   }
  },
  {
   "cell_type": "markdown",
   "source": [
    "# Part Two"
   ],
   "metadata": {
    "collapsed": false,
    "pycharm": {
     "name": "#%% md\n",
     "is_executing": false
    }
   }
  },
  {
   "cell_type": "code",
   "execution_count": 3,
   "outputs": [
    {
     "name": "stdout",
     "text": [
      "[25145, 52213, 50900, 71755, 29218, 34962, 49115, 59612, 74211, 41470, 53613, 62339, 71095, 54018, 60495, 59817, 37741, 54476, 68343, 26005, 57585, 43803, 32229, 35557, 34503, 71157, 34085, 57580, 66293, 68469, 41386, 39638, 65830, 26115, 51438, 49114, 72155, 59468, 31925, 73355, 41426, 36000, 41394, 27928, 45799, 41427, 52907, 59741, 35288, 57199, 64584, 27989, 34984, 72561, 27425, 28434, 26047, 72161, 40019, 41935, 40636, 36316, 25269, 64415, 27039, 39532, 34933, 36414, 54146, 33675, 55258, 65706, 32726, 43925, 62858, 25863, 72701, 27149, 43825, 49000, 49864, 46220, 25344, 38276, 55036, 28027, 74717, 38242, 43560, 64134, 63797, 72088, 70819, 48405, 31185, 68271, 60882, 55867, 51935, 34871]\n"
     ],
     "output_type": "stream"
    }
   ],
   "source": [
    "subtotals = []\n",
    "for input in inputs:\n",
    "    input_fuel = [req_fuel(input)]\n",
    "    while input_fuel[-1] > 0:\n",
    "        input_fuel.append(req_fuel(input_fuel[-1]))\n",
    "    subtotals.append(sum(input_fuel[0:-1]))\n",
    "print(subtotals)"
   ],
   "metadata": {
    "collapsed": false,
    "pycharm": {
     "name": "#%%\n",
     "is_executing": false
    }
   }
  },
  {
   "cell_type": "code",
   "execution_count": 4,
   "outputs": [
    {
     "data": {
      "text/plain": "4816402"
     },
     "metadata": {},
     "output_type": "execute_result",
     "execution_count": 4
    }
   ],
   "source": [
    "total_fuel = sum(subtotals)\n",
    "total_fuel"
   ],
   "metadata": {
    "collapsed": false,
    "pycharm": {
     "name": "#%%\n",
     "is_executing": false
    }
   }
  },
  {
   "cell_type": "code",
   "execution_count": 4,
   "outputs": [],
   "source": [
    "\n"
   ],
   "metadata": {
    "collapsed": false,
    "pycharm": {
     "name": "#%%\n",
     "is_executing": false
    }
   }
  }
 ],
 "metadata": {
  "kernelspec": {
   "name": "pycharm-e84f7fe0",
   "language": "python",
   "display_name": "PyCharm (Intro to Statistical Learning)"
  },
  "language_info": {
   "codemirror_mode": {
    "name": "ipython",
    "version": 2
   },
   "file_extension": ".py",
   "mimetype": "text/x-python",
   "name": "python",
   "nbconvert_exporter": "python",
   "pygments_lexer": "ipython2",
   "version": "2.7.6"
  },
  "pycharm": {
   "stem_cell": {
    "cell_type": "raw",
    "source": [],
    "metadata": {
     "collapsed": false
    }
   }
  }
 },
 "nbformat": 4,
 "nbformat_minor": 0
}